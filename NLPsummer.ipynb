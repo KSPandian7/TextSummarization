{
 "cells": [
  {
   "cell_type": "code",
   "execution_count": 1,
   "id": "2aa82a2f-2a1b-41cb-82f7-da0770895e08",
   "metadata": {},
   "outputs": [],
   "source": [
    "import nltk\n",
    "from nltk.tokenize import sent_tokenize\n",
    "from nltk.stem import PorterStemmer\n",
    "from nltk.corpus import stopwords\n",
    "from heapq import nlargest"
   ]
  },
  {
   "cell_type": "code",
   "execution_count": 2,
   "id": "66ad72f4-adc1-4e80-92a3-f71fd8a9ce0a",
   "metadata": {},
   "outputs": [
    {
     "name": "stderr",
     "output_type": "stream",
     "text": [
      "[nltk_data] Downloading package punkt_tab to C:\\Users\\SEC/nltk_data...\n",
      "[nltk_data]   Package punkt_tab is already up-to-date!\n",
      "[nltk_data] Downloading package stopwords to C:\\Users\\SEC/nltk_data...\n",
      "[nltk_data]   Package stopwords is already up-to-date!\n"
     ]
    },
    {
     "data": {
      "text/plain": [
       "True"
      ]
     },
     "execution_count": 2,
     "metadata": {},
     "output_type": "execute_result"
    }
   ],
   "source": [
    "nltk.download('punkt_tab')\n",
    "nltk.download('stopwords')"
   ]
  },
  {
   "cell_type": "code",
   "execution_count": 3,
   "id": "e69c8a0d-aff2-46a8-9742-36f48274c03d",
   "metadata": {},
   "outputs": [],
   "source": [
    "text = \"\"\"\n",
    "The ongoing decline of the Indian Rupee (INR) against the US Dollar (USD) is a complex issue influenced by various economic and geopolitical factors. One of the primary contributors is India's persistent trade deficit, where the country imports significantly more than it exports. This imbalance creates a higher demand for foreign currencies like the USD, leading to downward pressure on the Rupee; recent figures indicate that India's trade balance has shown a negative figure exceeding $30 billion. Additionally, a widening current account deficit (CAD) reflects that India is spending more on foreign trade than it earns, resulting in a net outflow of domestic currency, further weakening the Rupee.\n",
    "Inflation rates also play a critical role in this depreciation. When inflation in India outpaces that of the US, it erodes the purchasing power of the Rupee, meaning more Rupees are needed to purchase goods and services equivalent to what a Dollar can buy. Furthermore, interest rate differentials between India and the US significantly impact currency values. When US interest rates rise, it attracts foreign investment into US assets, increasing demand for Dollars and putting additional pressure on the Rupee. The Reserve Bank of India (RBI) has attempted to counteract this by raising interest rates from 4% to over 6.5% since 2022.\n",
    "Global economic trends also affect the INR's value. For instance, rising crude oil prices—currently near $90 per barrel—heighten India's demand for Dollars due to its status as a net oil importer. This situation further exacerbates the pressure on the Rupee as more foreign currency is required for oil purchases. The behavior of Foreign Institutional Investors (FIIs) can lead to significant capital inflows or outflows from India; recent sell-offs by FIIs have resulted in notable impacts on exchange rates as they convert their holdings back into Dollars.\n",
    "Lastly, geopolitical factors and global market sentiments contribute to currency fluctuations. Events that create uncertainty can lead to capital flight from emerging markets like India, further weakening the Rupee. Overall, this multifaceted situation requires comprehensive policy measures and strategic planning to stabilize and strengthen the currency in the long term, ensuring that India can navigate these challenges effectively.\"\"\""
   ]
  },
  {
   "cell_type": "code",
   "execution_count": 4,
   "id": "8b0d9b3f-5034-4292-a701-b5e8aa30176d",
   "metadata": {},
   "outputs": [
    {
     "name": "stdout",
     "output_type": "stream",
     "text": [
      "\n",
      "The ongoing decline of the Indian Rupee (INR) against the US Dollar (USD) is a complex issue influenced by various economic and geopolitical factors. One of the primary contributors is India's persistent trade deficit, where the country imports significantly more than it exports. This imbalance creates a higher demand for foreign currencies like the USD, leading to downward pressure on the Rupee; recent figures indicate that India's trade balance has shown a negative figure exceeding $30 billion. Additionally, a widening current account deficit (CAD) reflects that India is spending more on foreign trade than it earns, resulting in a net outflow of domestic currency, further weakening the Rupee.\n",
      "Inflation rates also play a critical role in this depreciation. When inflation in India outpaces that of the US, it erodes the purchasing power of the Rupee, meaning more Rupees are needed to purchase goods and services equivalent to what a Dollar can buy. Furthermore, interest rate differentials between India and the US significantly impact currency values. When US interest rates rise, it attracts foreign investment into US assets, increasing demand for Dollars and putting additional pressure on the Rupee. The Reserve Bank of India (RBI) has attempted to counteract this by raising interest rates from 4% to over 6.5% since 2022.\n",
      "Global economic trends also affect the INR's value. For instance, rising crude oil prices—currently near $90 per barrel—heighten India's demand for Dollars due to its status as a net oil importer. This situation further exacerbates the pressure on the Rupee as more foreign currency is required for oil purchases. The behavior of Foreign Institutional Investors (FIIs) can lead to significant capital inflows or outflows from India; recent sell-offs by FIIs have resulted in notable impacts on exchange rates as they convert their holdings back into Dollars.\n",
      "Lastly, geopolitical factors and global market sentiments contribute to currency fluctuations. Events that create uncertainty can lead to capital flight from emerging markets like India, further weakening the Rupee. Overall, this multifaceted situation requires comprehensive policy measures and strategic planning to stabilize and strengthen the currency in the long term, ensuring that India can navigate these challenges effectively.\n"
     ]
    }
   ],
   "source": [
    "print(text)"
   ]
  },
  {
   "cell_type": "code",
   "execution_count": 12,
   "id": "5c3535f7-a0ac-4e84-bd78-56a683a764b3",
   "metadata": {},
   "outputs": [],
   "source": [
    "sentences = sent_tokenize(text)"
   ]
  },
  {
   "cell_type": "code",
   "execution_count": 13,
   "id": "ec3d56ab-17f5-4c19-b21a-52a2ab3f48a2",
   "metadata": {},
   "outputs": [],
   "source": [
    "stemmer = PorterStemmer()"
   ]
  },
  {
   "cell_type": "code",
   "execution_count": 14,
   "id": "52b4d6d8-d109-4640-a5ea-60489449327d",
   "metadata": {},
   "outputs": [],
   "source": [
    "stop_words = set(stopwords.words('english'))"
   ]
  },
  {
   "cell_type": "code",
   "execution_count": 15,
   "id": "0049c63d-fd1a-4893-a796-c40c3b359c95",
   "metadata": {},
   "outputs": [
    {
     "name": "stdout",
     "output_type": "stream",
     "text": [
      "{'we', 'had', 'his', 'an', 'all', 'weren', 'having', 've', 'needn', 'through', 'hers', \"should've\", 'because', 'shan', 'with', 'only', 'at', 'by', 'there', 'herself', 'being', 'a', 'out', 'both', \"doesn't\", 'not', 'than', 'each', 'until', 'if', 'll', \"hasn't\", \"wouldn't\", 'am', 'been', 'of', 'such', 'off', 'aren', 'myself', \"couldn't\", 'so', 'has', 'to', 'the', \"shouldn't\", 'after', 'yourselves', 'but', 'they', 'few', 'her', 'he', 'ma', 'or', 'any', 'own', 'should', \"you'll\", 'couldn', 'doesn', 'were', 'ours', 'd', 'on', 'don', 'which', 'below', \"aren't\", 'no', \"won't\", \"hadn't\", 'can', 'those', 'these', 'she', 'how', 'are', 'who', 'whom', 'most', \"didn't\", 'nor', 'between', 'what', \"isn't\", 'yourself', \"shan't\", 'me', 'will', 'then', 'about', \"needn't\", 'it', 'didn', 'do', 'and', 'above', 'have', 'same', \"haven't\", 'be', 'as', 't', 'himself', \"it's\", 'them', 'now', 'i', 'against', 'before', 're', \"you'd\", 'their', 'again', 'why', 'did', 'from', 's', 'was', 'its', 'you', 'hasn', 'that', 'our', \"you've\", 'mustn', 'some', \"mightn't\", 'for', 'is', 'when', 'very', 'this', 'into', \"don't\", \"mustn't\", 'down', 'where', \"that'll\", 'doing', 'too', 'm', 'further', 'while', 'in', 'won', 'here', 'during', 'him', 'wouldn', 'themselves', 'once', 'ain', 'hadn', 'y', 'mightn', 'just', 'under', \"wasn't\", 'other', 'more', \"weren't\", 'yours', 'isn', 'o', 'itself', 'up', 'wasn', 'does', 'over', \"she's\", 'haven', 'shouldn', \"you're\", 'your', 'theirs', 'ourselves', 'my'}\n"
     ]
    }
   ],
   "source": [
    "print(stop_words)"
   ]
  },
  {
   "cell_type": "code",
   "execution_count": 17,
   "id": "f80878ce-9deb-414a-8eb1-4b66a4bfa7ca",
   "metadata": {},
   "outputs": [],
   "source": [
    "words = []\n",
    "for sentence in sentences:\n",
    "    for word in nltk.word_tokenize(sentence.lower()):\n",
    "        if word not in stop_words and word.isalpha():\n",
    "            words.append(stemmer.stem(word))"
   ]
  },
  {
   "cell_type": "code",
   "execution_count": 18,
   "id": "e2ddbe76-ddb5-4cf7-b918-615b0f6d5d5f",
   "metadata": {},
   "outputs": [],
   "source": [
    "freq_dist = nltk.FreqDist(words)"
   ]
  },
  {
   "cell_type": "code",
   "execution_count": 19,
   "id": "a9a2b7a0-b6d5-4e0b-bebc-7342757127de",
   "metadata": {},
   "outputs": [
    {
     "name": "stdout",
     "output_type": "stream",
     "text": [
      "<FreqDist with 141 samples and 220 outcomes>\n"
     ]
    }
   ],
   "source": [
    "print(freq_dist)"
   ]
  },
  {
   "cell_type": "code",
   "execution_count": 20,
   "id": "22df839f-ff57-466a-bdd3-0103c3578563",
   "metadata": {},
   "outputs": [
    {
     "name": "stdout",
     "output_type": "stream",
     "text": [
      "['ongo', 'declin', 'indian', 'rupe', 'inr', 'us', 'dollar', 'usd', 'complex', 'issu', 'influenc', 'variou', 'econom', 'geopolit', 'factor', 'one', 'primari', 'contributor', 'india', 'persist', 'trade', 'deficit', 'countri', 'import', 'significantli', 'export', 'imbal', 'creat', 'higher', 'demand', 'foreign', 'currenc', 'like', 'usd', 'lead', 'downward', 'pressur', 'rupe', 'recent', 'figur', 'indic', 'india', 'trade', 'balanc', 'shown', 'neg', 'figur', 'exceed', 'billion', 'addit', 'widen', 'current', 'account', 'deficit', 'cad', 'reflect', 'india', 'spend', 'foreign', 'trade', 'earn', 'result', 'net', 'outflow', 'domest', 'currenc', 'weaken', 'rupe', 'inflat', 'rate', 'also', 'play', 'critic', 'role', 'depreci', 'inflat', 'india', 'outpac', 'us', 'erod', 'purchas', 'power', 'rupe', 'mean', 'rupe', 'need', 'purchas', 'good', 'servic', 'equival', 'dollar', 'buy', 'furthermor', 'interest', 'rate', 'differenti', 'india', 'us', 'significantli', 'impact', 'currenc', 'valu', 'us', 'interest', 'rate', 'rise', 'attract', 'foreign', 'invest', 'us', 'asset', 'increas', 'demand', 'dollar', 'put', 'addit', 'pressur', 'rupe', 'reserv', 'bank', 'india', 'rbi', 'attempt', 'counteract', 'rais', 'interest', 'rate', 'sinc', 'global', 'econom', 'trend', 'also', 'affect', 'inr', 'valu', 'instanc', 'rise', 'crude', 'oil', 'near', 'per', 'india', 'demand', 'dollar', 'due', 'statu', 'net', 'oil', 'import', 'situat', 'exacerb', 'pressur', 'rupe', 'foreign', 'currenc', 'requir', 'oil', 'purchas', 'behavior', 'foreign', 'institut', 'investor', 'fii', 'lead', 'signific', 'capit', 'inflow', 'outflow', 'india', 'recent', 'fii', 'result', 'notabl', 'impact', 'exchang', 'rate', 'convert', 'hold', 'back', 'dollar', 'lastli', 'geopolit', 'factor', 'global', 'market', 'sentiment', 'contribut', 'currenc', 'fluctuat', 'event', 'creat', 'uncertainti', 'lead', 'capit', 'flight', 'emerg', 'market', 'like', 'india', 'weaken', 'rupe', 'overal', 'multifacet', 'situat', 'requir', 'comprehens', 'polici', 'measur', 'strateg', 'plan', 'stabil', 'strengthen', 'currenc', 'long', 'term', 'ensur', 'india', 'navig', 'challeng', 'effect']\n"
     ]
    }
   ],
   "source": [
    "print(words)"
   ]
  },
  {
   "cell_type": "code",
   "execution_count": 21,
   "id": "8d0882b6-0ea1-4372-bbdd-411856d0c231",
   "metadata": {},
   "outputs": [],
   "source": [
    "top = [word[0] for word in freq_dist.most_common(10)]"
   ]
  },
  {
   "cell_type": "code",
   "execution_count": 22,
   "id": "2eddc267-62c3-4e65-913a-2e82c7670bc3",
   "metadata": {},
   "outputs": [
    {
     "name": "stdout",
     "output_type": "stream",
     "text": [
      "['india', 'rupe', 'currenc', 'us', 'dollar', 'foreign', 'rate', 'trade', 'demand', 'lead']\n"
     ]
    }
   ],
   "source": [
    "print(top)"
   ]
  },
  {
   "cell_type": "code",
   "execution_count": 23,
   "id": "8d467827-26d6-4c6f-9bbe-5b6e219db443",
   "metadata": {},
   "outputs": [
    {
     "name": "stdout",
     "output_type": "stream",
     "text": [
      "This imbalance creates a higher demand for foreign currencies like the USD, leading to downward pressure on the Rupee; recent figures indicate that India's trade balance has shown a negative figure exceeding $30 billion.\n",
      "When US interest rates rise, it attracts foreign investment into US assets, increasing demand for Dollars and putting additional pressure on the Rupee.\n",
      "Additionally, a widening current account deficit (CAD) reflects that India is spending more on foreign trade than it earns, resulting in a net outflow of domestic currency, further weakening the Rupee.\n"
     ]
    }
   ],
   "source": [
    "summary = []\n",
    "for sentence in sentences:\n",
    "    sentence_words = nltk.word_tokenize(sentence.lower())\n",
    "    sentence_score = 0\n",
    "    for word in sentence_words:\n",
    "        if stemmer.stem(word) in top:\n",
    "            sentence_score += 1\n",
    "    summary.append((sentence, sentence_score))\n",
    "\n",
    "for sentence in nlargest(3, summary, key=lambda x : x[1]):\n",
    "    print(sentence[0])"
   ]
  },
  {
   "cell_type": "code",
   "execution_count": null,
   "id": "698d3a95-4bb4-4d85-8a73-3e649cb65ed1",
   "metadata": {},
   "outputs": [],
   "source": []
  }
 ],
 "metadata": {
  "kernelspec": {
   "display_name": "Python 3 (ipykernel)",
   "language": "python",
   "name": "python3"
  },
  "language_info": {
   "codemirror_mode": {
    "name": "ipython",
    "version": 3
   },
   "file_extension": ".py",
   "mimetype": "text/x-python",
   "name": "python",
   "nbconvert_exporter": "python",
   "pygments_lexer": "ipython3",
   "version": "3.12.6"
  }
 },
 "nbformat": 4,
 "nbformat_minor": 5
}
